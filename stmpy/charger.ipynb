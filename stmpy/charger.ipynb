{
 "cells": [
  {
   "cell_type": "code",
   "execution_count": 33,
   "metadata": {},
   "outputs": [],
   "source": [
    "import json\n",
    "from stmpy import Machine, Driver\n",
    "import logging\n",
    "import random\n",
    "import paho.mqtt.client as mqtt\n",
    "from threading import Thread\n",
    "import ipywidgets as widgets\n",
    "from IPython.display import display\n",
    "\n",
    "broker, port = \"ipsen.no\", 1883\n",
    "id = \"19e0b6bf-4d0f-43c2-ae93-90e42e62ba70\""
   ]
  },
  {
   "cell_type": "code",
   "execution_count": 34,
   "metadata": {},
   "outputs": [],
   "source": [
    "class Charger:\n",
    "    def __init__(self):\n",
    "        self.electricity = 0\n",
    "        self.button_disconnect = widgets.Button(description=\"Charger disconnected\")\n",
    "        self.button_disconnect.on_click(self.on_button_disconnect)\n",
    "        self.button_fully_charged = widgets.Button(description=\"Car fully charged\")\n",
    "        self.button_fully_charged.on_click(self.on_button_fully_charged)\n",
    "        self.button_down = widgets.Button(description=\"Charger out of order\")\n",
    "        self.button_down.on_click(self.on_button_charger_out_of_order)\n",
    "        self.button_repair = widgets.Button(description=\"Charger repaired\")\n",
    "        self.button_repair.on_click(self.on_button_charger_repaired)\n",
    "        display(self.button_disconnect, self.button_fully_charged, self.button_down, self.button_repair)\n",
    "\n",
    "    def on_button_disconnect(self, b):\n",
    "        self.stm.send('disconnected')\n",
    "\n",
    "    def on_button_fully_charged(self, b):\n",
    "        self.stm.send('fully_charged')\n",
    "\n",
    "    def on_button_charger_out_of_order(self, b):\n",
    "        self.stm.send('down')\n",
    "    \n",
    "    def on_button_charger_repaired(self, b):\n",
    "        self.stm.send('repaired')\n",
    "\n",
    "    def msg_cloud(self, type, message):\n",
    "        print(message)\n",
    "        msg = {\"msg\": message}\n",
    "        json_msg = json.dumps(msg)\n",
    "        self.mqtt_client.publish(f\"charger/{id}{type}\", json_msg)\n",
    "\n",
    "    def start_measure_electricity(self):\n",
    "        self.electricity = 0\n",
    "\n",
    "    def end_measure_electricity(self):\n",
    "        self.electricity = random.randint(10,150)\n",
    "        self.msg_cloud(\"charge\", self.electricity)\n",
    " \n",
    " \n",
    "s_idle = {\n",
    "    'name': 'idle',\n",
    "    'entry': 'msg_cloud(\"/status\",\"idle\")'\n",
    "}\n",
    "\n",
    "s_active = {\n",
    "    'name': 'active',\n",
    "    'entry': 'msg_cloud(\"/status\",\"charging\");start_measure_electricity()',\n",
    "    'exit': 'end_measure_electricity();'\n",
    "\n",
    "}\n",
    "\n",
    "s_down = {\n",
    "    'name': 'down',\n",
    "    'entry': 'msg_cloud(\"/status\",\"out_of_order\")',\n",
    "    'start': 'msg_cloud(\"/status\",\"out_of_order\")',\n",
    "    'exit' : 'msg_cloud(\"/status\",\"charger_repaired\")'\n",
    "}\n",
    "\n",
    "t_init = {'source': 'initial',\n",
    "        'target': 'idle'\n",
    "      }\n",
    "\n",
    "t_start = {'trigger': 'start',\n",
    "          'source': 'idle',\n",
    "          'target': 'active'\n",
    "          }\n",
    "\n",
    "t_end = {'trigger': 'end',\n",
    "          'source': 'active',\n",
    "         'target': 'idle'\n",
    "         }\n",
    "\n",
    "t_fully_charged = {'trigger': 'fully_charged',\n",
    "          'source': 'active',\n",
    "         'target': 'idle',\n",
    "         'effect': 'msg_cloud(\"\", \"car_fully_charged\")'\n",
    "         }\n",
    "\n",
    "t_disconnected = {'trigger': 'disconnected',\n",
    "          'source': 'active',\n",
    "         'target': 'idle',\n",
    "         'effect': 'msg_cloud(\"\", \"charger_disconnected\")'\n",
    "         }\n",
    "\n",
    "\n",
    "t_idle_down = {'trigger': 'down',\n",
    "                'source': 'idle',\n",
    "               'target': 'down'\n",
    "               }\n",
    "\n",
    "t_idle_self_down = {'trigger': 'self_down',\n",
    "                'source': 'idle',\n",
    "               'target': 'down'\n",
    "               }\n",
    "\n",
    "t_active_down = {'trigger': 'down',\n",
    "                'source': 'active',\n",
    "                 'target': 'down'\n",
    "                 }\n",
    "\n",
    "t_active_self_down = {'trigger': 'self_down',\n",
    "                'source': 'active',\n",
    "                 'target': 'down'\n",
    "                 }\n",
    "\n",
    "\n",
    "t_repaired = {'trigger': 'repaired', \n",
    "              'source': 'down',\n",
    "              'target': 'idle'\n",
    "              }\n"
   ]
  },
  {
   "cell_type": "code",
   "execution_count": 35,
   "metadata": {},
   "outputs": [],
   "source": [
    "class MQTT_Client:\n",
    "    def __init__(self):\n",
    "        self.id = id\n",
    "        self.client = mqtt.Client(mqtt.CallbackAPIVersion.VERSION1)\n",
    "        self.client.on_connect = self.on_connect\n",
    "        self.client.on_message = self.on_message\n",
    " \n",
    " \n",
    "    def on_connect(self, client, userdata, flags, rc):\n",
    "        print(\"on_connect(): {}\".format(mqtt.connack_string(rc)))\n",
    " \n",
    "    def on_message(self, client, userdata, msg):\n",
    "        topic = msg.topic\n",
    "        payload_str = msg.payload.decode(\"utf-8\")\n",
    "        msg_content = \"\"\n",
    "        try:\n",
    "            msg_content = json.loads(payload_str)['msg']\n",
    "        except json.JSONDecodeError:\n",
    "            print(\"Failed to decode JSON\")\n",
    "        print(\"incomming_message:\", msg_content)\n",
    "        if (msg_content == \"start_charging\"):\n",
    "            self.stm_driver.send(\"start\", \"charger_stm\")\n",
    "        elif (msg_content == \"stop_charging\"):\n",
    "            self.stm_driver.send(\"end\", \"charger_stm\")\n",
    "        elif (msg_content == \"charger_down\"):\n",
    "            self.stm_driver.send(\"down\", \"charger_stm\")\n",
    "        elif (msg_content == \"repair\"):\n",
    "            self.stm_driver.send(\"repaired\", \"charger_stm\")\n",
    "        #For debug and simulation purposes, event_disconnected, event_car_charged, event_self_down are implemented with MQTT\n",
    "        elif (msg_content == \"event_disconnected\"):\n",
    "            self.stm_driver.send(\"disconnected\", \"charger_stm\")\n",
    "        elif (msg_content == \"event_car_charged\"):\n",
    "            self.stm_driver.send(\"fully_charged\", \"charger_stm\")\n",
    "        elif (msg_content == \"event_self_down\"):\n",
    "            self.stm_driver.send(\"self_down\", \"charger_stm\")\n",
    "        else:\n",
    "            print(topic, msg_content)\n",
    " \n",
    "    def start(self, broker, port):\n",
    "        print(\"Connecting to {}:{}\".format(broker, port))\n",
    "        self.client.connect(broker, port)\n",
    "        self.client.subscribe(f\"cmd/charger/{self.id}/#\")   \n",
    " \n",
    "        try:\n",
    "            # line below should not have the () after the function!\n",
    "            thread = Thread(target=self.client.loop_forever)\n",
    "            thread.start()\n",
    "        except KeyboardInterrupt:\n",
    "            print(\"Interrupted\")\n",
    "            self.client.disconnect()\n",
    " "
   ]
  },
  {
   "cell_type": "code",
   "execution_count": 36,
   "metadata": {},
   "outputs": [
    {
     "data": {
      "application/vnd.jupyter.widget-view+json": {
       "model_id": "fa12958c376f4a489657c0f60f343cea",
       "version_major": 2,
       "version_minor": 0
      },
      "text/plain": [
       "Button(description='Charger disconnected', style=ButtonStyle())"
      ]
     },
     "metadata": {},
     "output_type": "display_data"
    },
    {
     "data": {
      "application/vnd.jupyter.widget-view+json": {
       "model_id": "5449ef965f194967bf50c628967c38fb",
       "version_major": 2,
       "version_minor": 0
      },
      "text/plain": [
       "Button(description='Car fully charged', style=ButtonStyle())"
      ]
     },
     "metadata": {},
     "output_type": "display_data"
    },
    {
     "data": {
      "application/vnd.jupyter.widget-view+json": {
       "model_id": "ea97a224cabb4722ba6849f95b569c5a",
       "version_major": 2,
       "version_minor": 0
      },
      "text/plain": [
       "Button(description='Charger out of order', style=ButtonStyle())"
      ]
     },
     "metadata": {},
     "output_type": "display_data"
    },
    {
     "data": {
      "application/vnd.jupyter.widget-view+json": {
       "model_id": "2359afdeb417419f8b10f94343cda0d3",
       "version_major": 2,
       "version_minor": 0
      },
      "text/plain": [
       "Button(description='Charger repaired', style=ButtonStyle())"
      ]
     },
     "metadata": {},
     "output_type": "display_data"
    },
    {
     "name": "stdout",
     "output_type": "stream",
     "text": [
      "idle\n",
      "Connecting to ipsen.no:1883\n"
     ]
    },
    {
     "name": "stderr",
     "output_type": "stream",
     "text": [
      "C:\\Users\\serte\\AppData\\Local\\Temp/ipykernel_24580/2947180166.py:4: DeprecationWarning: Callback API version 1 is deprecated, update to latest version\n",
      "  self.client = mqtt.Client(mqtt.CallbackAPIVersion.VERSION1)\n"
     ]
    },
    {
     "name": "stdout",
     "output_type": "stream",
     "text": [
      "on_connect(): Connection Accepted.\n"
     ]
    },
    {
     "name": "stderr",
     "output_type": "stream",
     "text": [
      "Machine charger_stm is in state idle and received event end, but no transition with this event is declared!\n",
      "Machine charger_stm is in state idle and received event end, but no transition with this event is declared!\n"
     ]
    },
    {
     "name": "stdout",
     "output_type": "stream",
     "text": [
      "incomming_message:incomming_message: stop_charging\n",
      " stop_charging\n"
     ]
    },
    {
     "name": "stderr",
     "output_type": "stream",
     "text": [
      "Machine charger_stm is in state active and received event start, but no transition with this event is declared!\n"
     ]
    },
    {
     "name": "stdout",
     "output_type": "stream",
     "text": [
      "incomming_message: start_charging\n",
      "charging\n",
      "incomming_message: start_charging\n",
      "23\n",
      "out_of_order\n"
     ]
    }
   ],
   "source": [
    "charger = Charger()\n",
    "charger_machine =  Machine('charger_stm', [t_init, t_start, t_end, t_disconnected, t_fully_charged, t_idle_down, t_active_down, t_idle_self_down, t_active_self_down, t_repaired], charger, [s_idle, s_active, s_down])\n",
    "charger.stm = charger_machine\n",
    " \n",
    "driver = Driver()\n",
    "driver.add_machine(charger_machine)\n",
    " \n",
    "myclient = MQTT_Client()\n",
    "charger.mqtt_client = myclient.client\n",
    "myclient.stm_driver = driver\n",
    " \n",
    "driver.start()\n",
    "myclient.start(broker, port)\n",
    " \n",
    "driver.start()"
   ]
  }
 ],
 "metadata": {
  "kernelspec": {
   "display_name": "Python 3",
   "language": "python",
   "name": "python3"
  },
  "language_info": {
   "codemirror_mode": {
    "name": "ipython",
    "version": 3
   },
   "file_extension": ".py",
   "mimetype": "text/x-python",
   "name": "python",
   "nbconvert_exporter": "python",
   "pygments_lexer": "ipython3",
   "version": "3.9.13"
  }
 },
 "nbformat": 4,
 "nbformat_minor": 2
}
