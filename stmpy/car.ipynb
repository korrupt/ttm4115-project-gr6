{
 "cells": [
  {
   "cell_type": "code",
   "execution_count": 1,
   "metadata": {},
   "outputs": [],
   "source": [
    "import json\n",
    "from stmpy import Machine, Driver\n",
    "import logging\n",
    "import paho.mqtt.client as mqtt\n",
    "from threading import Thread\n",
    "import ipywidgets as widgets\n",
    "from IPython.display import display\n",
    "\n",
    "broker, port = \"ipsen.no\", 1883\n",
    "id = 1"
   ]
  },
  {
   "cell_type": "code",
   "execution_count": 2,
   "metadata": {},
   "outputs": [],
   "source": [
    "class Car:\n",
    "    def on_init(self):\n",
    "        self.button_stop_charge = widgets.Button(description=\"Stop charge\")\n",
    "        self.button_stop_charge.on_click(self.on_button_stop_charge)\n",
    "        self.button_terminate = widgets.Button(description=\"Stop the Driver\")\n",
    "        self.button_terminate.on_click(self.on_button_terminate)\n",
    "        display(self.button_stop_charge, self.button_terminate)\n",
    "\n",
    "    def on_button_stop_charge(self, b):\n",
    "        self.stm.send('stop_charge')\n",
    "\n",
    "    def on_button_terminate(self, b):\n",
    "        self.stm.driver.stop()\n",
    "\n",
    "    def send_mqtt_stop_charge(self):\n",
    "        logging.info(\"Charging stopped\")\n",
    "        data = {\n",
    "        \"msg\": \"stop_charging\"\n",
    "        }\n",
    "        msg = json.dumps(data)\n",
    "        self.mqtt_client.publish(\"car/1\", msg)\n",
    "\n",
    "    def print_state(self, type, msg):\n",
    "        print(msg)\n",
    "\n",
    "t0 = {\"source\": \"initial\", \"target\": \"not_charge\", \"effect\": \"on_init\"}\n",
    "\n",
    "t1 = {\n",
    "    \"trigger\": \"start_charge\",\n",
    "    \"source\": \"not_charge\",\n",
    "    \"target\": \"charge\",\n",
    "    \"effect\": 'print_state(\"type\", \"Moved to state charge\")'\n",
    "}\n",
    "\n",
    "t2 = {\n",
    "    \"trigger\": \"fully_charged\",\n",
    "    \"source\": \"charge\",\n",
    "    \"target\": \"not_charge\",\n",
    "    \"effect\": \"print_state('type', 'Moved to state not_charge')\"\n",
    "}\n",
    "\n",
    "t3 = {\n",
    "    \"trigger\": \"stop_charge\",\n",
    "    \"source\": \"charge\",\n",
    "    \"target\": \"not_charge\",\n",
    "    \"effect\": \"print_state('type', 'Moved to state not_charge');send_mqtt_stop_charge()\"\n",
    "}\n",
    "\n",
    "t4 = {\n",
    "    \"trigger\": \"disconnected\",\n",
    "    \"source\": \"charge\",\n",
    "    \"target\": \"not_charge\",\n",
    "    \"effect\": \"print_state('type', 'moved to state not_charge')\"\n",
    "}\n",
    "\n",
    "t5 = {\n",
    "    \"trigger\": \"time_out\",\n",
    "    \"source\": \"charge\",\n",
    "    \"target\": \"not_charge\",\n",
    "    \"effect\": \"print_state('type', 'moved to state not_charge')\"\n",
    "}"
   ]
  },
  {
   "cell_type": "code",
   "execution_count": 3,
   "metadata": {},
   "outputs": [],
   "source": [
    "class MQTT_Client:\n",
    "    def __init__(self):\n",
    "        #self.client = mqtt.Client(callback_api_version=mqtt.CallbackAPIVersion.VERSION1)\n",
    "        self.client = mqtt.Client()\n",
    "        self.client.on_connect = self.on_connect\n",
    "        self.client.on_message = self.on_message\n",
    "    \n",
    "    def on_connect(self, client, userdata, flags, rc):\n",
    "        print(\"on_connect(): {}\".format(mqtt.connack_string(rc)))\n",
    "\n",
    "    def on_message(self, client, userdata, msg):\n",
    "        print(\"message received\")\n",
    "        try:\n",
    "            topic = msg.topic\n",
    "            payload = msg.payload.decode(\"utf-8\")\n",
    "            data = json.loads(payload)\n",
    "        except Exception as e:\n",
    "            print(\"Error decoding or parsing message:\", e)\n",
    "        print(\"topic: \", topic, \"data:\", data[\"msg\"])\n",
    "        if topic == \"cmd/car/\"+ str(id) and data[\"msg\"] == \"start_charge\":\n",
    "            self.stm_driver.send(\"start_charge\", \"car\")\n",
    "        elif topic == \"cmd/car/\"+ str(id) and data[\"msg\"] == \"stop_charge\":\n",
    "            self.stm_driver.send(\"stop_charge\", \"car\")\n",
    "        elif topic == \"cmd/car/\"+ str(id) and data[\"msg\"] == \"fully_charged\":\n",
    "            self.stm_driver.send(\"fully_charged\", \"car\")\n",
    "        elif topic == \"cmd/car/\"+ str(id) and data[\"msg\"] == \"time_out\":\n",
    "            self.stm_driver.send(\"fully_charged\", \"car\")  \n",
    "        elif topic == \"cmd/car/\"+ str(id) and data[\"msg\"] == \"disconnected\":\n",
    "            self.stm_driver.send(\"disconnected\", \"car\")    \n",
    "\n",
    "\n",
    "    def start(self, broker, port):\n",
    "        print(\"Connecting to {}:{}\".format(broker, port))\n",
    "        self.client.connect(broker, port)\n",
    "        self.client.subscribe(\"cmd/car/\"+ str(id))\n",
    "        try:\n",
    "            # line below should not have the () after the function!\n",
    "            thread = Thread(target=self.client.loop_forever)\n",
    "            thread.start()\n",
    "        except KeyboardInterrupt:\n",
    "            print(\"Interrupted\")\n",
    "            self.client.disconnect()"
   ]
  },
  {
   "cell_type": "code",
   "execution_count": 4,
   "metadata": {},
   "outputs": [
    {
     "name": "stdout",
     "output_type": "stream",
     "text": [
      "Connecting to ipsen.no:1883\n"
     ]
    },
    {
     "data": {
      "application/vnd.jupyter.widget-view+json": {
       "model_id": "753cabc0d82c44bea40adfa04f5d52c7",
       "version_major": 2,
       "version_minor": 0
      },
      "text/plain": [
       "Button(description='Stop charge', style=ButtonStyle())"
      ]
     },
     "metadata": {},
     "output_type": "display_data"
    },
    {
     "data": {
      "application/vnd.jupyter.widget-view+json": {
       "model_id": "24c9d5486d19477c97b6d73d6b85e56f",
       "version_major": 2,
       "version_minor": 0
      },
      "text/plain": [
       "Button(description='Stop the Driver', style=ButtonStyle())"
      ]
     },
     "metadata": {},
     "output_type": "display_data"
    },
    {
     "name": "stdout",
     "output_type": "stream",
     "text": [
      "on_connect(): Connection Accepted.\n",
      "message received\n",
      "topic:  cmd/car/1 data: start_charge\n",
      "Moved to state charge\n",
      "Moved to state not_charge\n"
     ]
    },
    {
     "name": "stderr",
     "output_type": "stream",
     "text": [
      "INFO:root:Charging stopped\n"
     ]
    }
   ],
   "source": [
    "logger = logging.getLogger('stmpy.Driver')\n",
    "logger.setLevel(logging.INFO)\n",
    "ch = logging.StreamHandler()\n",
    "ch.setLevel(logging.INFO)\n",
    "formatter = logging.Formatter('%(asctime)s - %(name)s - %(levelname)s - %(message)s')\n",
    "ch.setFormatter(formatter)\n",
    "logger.addHandler(ch)\n",
    "\n",
    "logger = logging.getLogger('stmpy.Machine')\n",
    "logger.setLevel(logging.INFO)\n",
    "ch = logging.StreamHandler()\n",
    "ch.setLevel(logging.INFO)\n",
    "formatter = logging.Formatter('%(asctime)s - %(name)s - %(levelname)s - %(message)s')\n",
    "ch.setFormatter(formatter)\n",
    "logger.addHandler(ch)\n",
    "\n",
    "logging.getLogger().setLevel(logging.INFO)\n",
    "\n",
    "\n",
    "car = Car()\n",
    "car_machine = Machine(transitions=[t0, t1, t2, t3, t4, t5], obj=car, name=\"car\")\n",
    "car.stm = car_machine\n",
    "\n",
    "driver = Driver()\n",
    "driver.add_machine(car_machine)\n",
    "\n",
    "myclient = MQTT_Client()\n",
    "car.mqtt_client = myclient.client\n",
    "myclient.stm_driver = driver\n",
    "\n",
    "driver.start()\n",
    "myclient.start(broker, port)"
   ]
  }
 ],
 "metadata": {
  "kernelspec": {
   "display_name": "Python 3",
   "language": "python",
   "name": "python3"
  },
  "language_info": {
   "codemirror_mode": {
    "name": "ipython",
    "version": 3
   },
   "file_extension": ".py",
   "mimetype": "text/x-python",
   "name": "python",
   "nbconvert_exporter": "python",
   "pygments_lexer": "ipython3",
   "version": "3.10.0"
  }
 },
 "nbformat": 4,
 "nbformat_minor": 2
}
